{
 "cells": [
  {
   "cell_type": "code",
   "execution_count": 28,
   "metadata": {},
   "outputs": [],
   "source": [
    "import pandas as pd\n",
    "import seaborn as sns\n",
    "import matplotlib.pyplot as plt\n",
    "from scipy.stats import shapiro, kstest, probplot\n",
    "from sklearn.linear_model import LinearRegression\n",
    "from sklearn.model_selection import train_test_split\n",
    "from sklearn.metrics import r2_score, mean_absolute_error, mean_squared_error"
   ]
  },
  {
   "cell_type": "code",
   "execution_count": 29,
   "metadata": {},
   "outputs": [],
   "source": [
    "# Carregar o arquivo\n",
    "df_colesterol = pd.read_csv('../datasets/dataset_colesterol.csv')"
   ]
  },
  {
   "cell_type": "code",
   "execution_count": 30,
   "metadata": {},
   "outputs": [
    {
     "name": "stdout",
     "output_type": "stream",
     "text": [
      "<class 'pandas.core.frame.DataFrame'>\n",
      "RangeIndex: 1000 entries, 0 to 999\n",
      "Data columns (total 8 columns):\n",
      " #   Column              Non-Null Count  Dtype  \n",
      "---  ------              --------------  -----  \n",
      " 0   Id                  1000 non-null   int64  \n",
      " 1   Grupo Sanguíneo     996 non-null    object \n",
      " 2   Fumante             997 non-null    object \n",
      " 3   Nível de Atividade  996 non-null    object \n",
      " 4   Idade               997 non-null    float64\n",
      " 5   Peso                997 non-null    float64\n",
      " 6   Altura              997 non-null    float64\n",
      " 7   Colesterol          1000 non-null   float64\n",
      "dtypes: float64(4), int64(1), object(3)\n",
      "memory usage: 62.6+ KB\n"
     ]
    }
   ],
   "source": [
    "df_colesterol.info()"
   ]
  },
  {
   "cell_type": "code",
   "execution_count": 31,
   "metadata": {},
   "outputs": [],
   "source": [
    "# Remover coluna Id\n",
    "df_colesterol.drop(columns=['Id'], axis=1, inplace=True)"
   ]
  },
  {
   "cell_type": "code",
   "execution_count": 32,
   "metadata": {},
   "outputs": [],
   "source": [
    "# Renomear as colunas\n",
    "df_colesterol.columns = ['grupo_sanguineo', 'fumante', 'nivel_atividade_fisica', 'idade', 'peso', 'altura', 'nivel_colesterol']"
   ]
  },
  {
   "cell_type": "code",
   "execution_count": 33,
   "metadata": {},
   "outputs": [],
   "source": [
    "# Copiar DF para DF EDA\n",
    "df_colesterol_eda = df_colesterol.copy()"
   ]
  },
  {
   "cell_type": "code",
   "execution_count": 34,
   "metadata": {},
   "outputs": [],
   "source": [
    "# Copiar DF para DF Bucketing\n",
    "df_colesterol_bucketing = df_colesterol.copy()"
   ]
  },
  {
   "cell_type": "markdown",
   "metadata": {},
   "source": [
    "# EDA"
   ]
  },
  {
   "cell_type": "code",
   "execution_count": 35,
   "metadata": {},
   "outputs": [
    {
     "data": {
      "text/html": [
       "<div>\n",
       "<style scoped>\n",
       "    .dataframe tbody tr th:only-of-type {\n",
       "        vertical-align: middle;\n",
       "    }\n",
       "\n",
       "    .dataframe tbody tr th {\n",
       "        vertical-align: top;\n",
       "    }\n",
       "\n",
       "    .dataframe thead th {\n",
       "        text-align: right;\n",
       "    }\n",
       "</style>\n",
       "<table border=\"1\" class=\"dataframe\">\n",
       "  <thead>\n",
       "    <tr style=\"text-align: right;\">\n",
       "      <th></th>\n",
       "      <th>grupo_sanguineo</th>\n",
       "      <th>fumante</th>\n",
       "      <th>nivel_atividade_fisica</th>\n",
       "      <th>idade</th>\n",
       "      <th>peso</th>\n",
       "      <th>altura</th>\n",
       "      <th>nivel_colesterol</th>\n",
       "    </tr>\n",
       "  </thead>\n",
       "  <tbody>\n",
       "    <tr>\n",
       "      <th>0</th>\n",
       "      <td>B</td>\n",
       "      <td>Sim</td>\n",
       "      <td>Baixo</td>\n",
       "      <td>33.0</td>\n",
       "      <td>85.1</td>\n",
       "      <td>186.0</td>\n",
       "      <td>199.63</td>\n",
       "    </tr>\n",
       "    <tr>\n",
       "      <th>1</th>\n",
       "      <td>A</td>\n",
       "      <td>Não</td>\n",
       "      <td>Moderado</td>\n",
       "      <td>68.0</td>\n",
       "      <td>105.0</td>\n",
       "      <td>184.0</td>\n",
       "      <td>236.98</td>\n",
       "    </tr>\n",
       "    <tr>\n",
       "      <th>2</th>\n",
       "      <td>O</td>\n",
       "      <td>Não</td>\n",
       "      <td>Alto</td>\n",
       "      <td>25.0</td>\n",
       "      <td>64.8</td>\n",
       "      <td>180.0</td>\n",
       "      <td>161.79</td>\n",
       "    </tr>\n",
       "    <tr>\n",
       "      <th>3</th>\n",
       "      <td>A</td>\n",
       "      <td>Não</td>\n",
       "      <td>Alto</td>\n",
       "      <td>43.0</td>\n",
       "      <td>120.2</td>\n",
       "      <td>167.0</td>\n",
       "      <td>336.24</td>\n",
       "    </tr>\n",
       "    <tr>\n",
       "      <th>4</th>\n",
       "      <td>AB</td>\n",
       "      <td>Não</td>\n",
       "      <td>Baixo</td>\n",
       "      <td>79.0</td>\n",
       "      <td>88.5</td>\n",
       "      <td>175.0</td>\n",
       "      <td>226.23</td>\n",
       "    </tr>\n",
       "  </tbody>\n",
       "</table>\n",
       "</div>"
      ],
      "text/plain": [
       "  grupo_sanguineo fumante nivel_atividade_fisica  idade   peso  altura  \\\n",
       "0               B     Sim                  Baixo   33.0   85.1   186.0   \n",
       "1               A     Não               Moderado   68.0  105.0   184.0   \n",
       "2               O     Não                   Alto   25.0   64.8   180.0   \n",
       "3               A     Não                   Alto   43.0  120.2   167.0   \n",
       "4              AB     Não                  Baixo   79.0   88.5   175.0   \n",
       "\n",
       "   nivel_colesterol  \n",
       "0            199.63  \n",
       "1            236.98  \n",
       "2            161.79  \n",
       "3            336.24  \n",
       "4            226.23  "
      ]
     },
     "execution_count": 35,
     "metadata": {},
     "output_type": "execute_result"
    }
   ],
   "source": [
    "df_colesterol_eda.head()"
   ]
  },
  {
   "cell_type": "code",
   "execution_count": 36,
   "metadata": {},
   "outputs": [
    {
     "data": {
      "text/plain": [
       "array(['B', 'A', 'O', 'AB', nan], dtype=object)"
      ]
     },
     "execution_count": 36,
     "metadata": {},
     "output_type": "execute_result"
    }
   ],
   "source": [
    "df_colesterol_eda.grupo_sanguineo.unique()"
   ]
  },
  {
   "cell_type": "code",
   "execution_count": 37,
   "metadata": {},
   "outputs": [
    {
     "data": {
      "text/plain": [
       "grupo_sanguineo           4\n",
       "fumante                   3\n",
       "nivel_atividade_fisica    4\n",
       "idade                     3\n",
       "peso                      3\n",
       "altura                    3\n",
       "nivel_colesterol          0\n",
       "dtype: int64"
      ]
     },
     "execution_count": 37,
     "metadata": {},
     "output_type": "execute_result"
    }
   ],
   "source": [
    "# Detectar valores nulos\n",
    "df_colesterol_eda.isnull().sum()"
   ]
  },
  {
   "cell_type": "code",
   "execution_count": 38,
   "metadata": {},
   "outputs": [
    {
     "data": {
      "text/html": [
       "<div>\n",
       "<style scoped>\n",
       "    .dataframe tbody tr th:only-of-type {\n",
       "        vertical-align: middle;\n",
       "    }\n",
       "\n",
       "    .dataframe tbody tr th {\n",
       "        vertical-align: top;\n",
       "    }\n",
       "\n",
       "    .dataframe thead th {\n",
       "        text-align: right;\n",
       "    }\n",
       "</style>\n",
       "<table border=\"1\" class=\"dataframe\">\n",
       "  <thead>\n",
       "    <tr style=\"text-align: right;\">\n",
       "      <th></th>\n",
       "      <th>idade</th>\n",
       "      <th>peso</th>\n",
       "      <th>altura</th>\n",
       "      <th>nivel_colesterol</th>\n",
       "    </tr>\n",
       "  </thead>\n",
       "  <tbody>\n",
       "    <tr>\n",
       "      <th>count</th>\n",
       "      <td>997.000000</td>\n",
       "      <td>997.000000</td>\n",
       "      <td>997.000000</td>\n",
       "      <td>1000.000000</td>\n",
       "    </tr>\n",
       "    <tr>\n",
       "      <th>mean</th>\n",
       "      <td>49.206620</td>\n",
       "      <td>76.496690</td>\n",
       "      <td>174.889669</td>\n",
       "      <td>199.453260</td>\n",
       "    </tr>\n",
       "    <tr>\n",
       "      <th>std</th>\n",
       "      <td>17.476704</td>\n",
       "      <td>21.439132</td>\n",
       "      <td>8.844703</td>\n",
       "      <td>50.625152</td>\n",
       "    </tr>\n",
       "    <tr>\n",
       "      <th>min</th>\n",
       "      <td>20.000000</td>\n",
       "      <td>15.400000</td>\n",
       "      <td>160.000000</td>\n",
       "      <td>36.260000</td>\n",
       "    </tr>\n",
       "    <tr>\n",
       "      <th>25%</th>\n",
       "      <td>34.000000</td>\n",
       "      <td>61.700000</td>\n",
       "      <td>167.000000</td>\n",
       "      <td>166.345000</td>\n",
       "    </tr>\n",
       "    <tr>\n",
       "      <th>50%</th>\n",
       "      <td>49.000000</td>\n",
       "      <td>75.500000</td>\n",
       "      <td>175.000000</td>\n",
       "      <td>199.455000</td>\n",
       "    </tr>\n",
       "    <tr>\n",
       "      <th>75%</th>\n",
       "      <td>65.000000</td>\n",
       "      <td>90.200000</td>\n",
       "      <td>183.000000</td>\n",
       "      <td>233.785000</td>\n",
       "    </tr>\n",
       "    <tr>\n",
       "      <th>max</th>\n",
       "      <td>79.000000</td>\n",
       "      <td>158.100000</td>\n",
       "      <td>190.000000</td>\n",
       "      <td>372.670000</td>\n",
       "    </tr>\n",
       "  </tbody>\n",
       "</table>\n",
       "</div>"
      ],
      "text/plain": [
       "            idade        peso      altura  nivel_colesterol\n",
       "count  997.000000  997.000000  997.000000       1000.000000\n",
       "mean    49.206620   76.496690  174.889669        199.453260\n",
       "std     17.476704   21.439132    8.844703         50.625152\n",
       "min     20.000000   15.400000  160.000000         36.260000\n",
       "25%     34.000000   61.700000  167.000000        166.345000\n",
       "50%     49.000000   75.500000  175.000000        199.455000\n",
       "75%     65.000000   90.200000  183.000000        233.785000\n",
       "max     79.000000  158.100000  190.000000        372.670000"
      ]
     },
     "execution_count": 38,
     "metadata": {},
     "output_type": "execute_result"
    }
   ],
   "source": [
    "# Olhar medidas estatísticas do DF\n",
    "df_colesterol_eda.describe()"
   ]
  },
  {
   "cell_type": "code",
   "execution_count": 39,
   "metadata": {},
   "outputs": [],
   "source": [
    "# Coletar medidas das variáveis\tcatetgóricas\n",
    "\n",
    "moda_grupo_sang = df_colesterol_eda.grupo_sanguineo.mode()\n",
    "moda_fumante = df_colesterol_eda.fumante.mode()\n",
    "moda_nivel_atividade = df_colesterol_eda.nivel_atividade_fisica.mode()"
   ]
  },
  {
   "cell_type": "code",
   "execution_count": 40,
   "metadata": {},
   "outputs": [],
   "source": [
    "# Coletar medidas das variáveis numéricas\n",
    "\n",
    "mediana_idade = df_colesterol.idade.median()\n",
    "mediana_peso = df_colesterol_eda.peso.median()\n",
    "mediana_altura = df_colesterol_eda.altura.median()"
   ]
  },
  {
   "cell_type": "code",
   "execution_count": 41,
   "metadata": {},
   "outputs": [],
   "source": [
    "# Imputar valores nulos\n",
    "\n",
    "df_colesterol_eda.fillna({'grupo_sanguineo': moda_grupo_sang[0],\n",
    "                      'fumante': moda_fumante[0],\n",
    "                      'nivel_atividade_fisica': moda_nivel_atividade[0],\n",
    "                      'idade': mediana_idade,\n",
    "                      'peso': mediana_peso,\n",
    "                      'altura': mediana_altura}, inplace=True)"
   ]
  }
 ],
 "metadata": {
  "kernelspec": {
   "display_name": ".venv",
   "language": "python",
   "name": "python3"
  },
  "language_info": {
   "codemirror_mode": {
    "name": "ipython",
    "version": 3
   },
   "file_extension": ".py",
   "mimetype": "text/x-python",
   "name": "python",
   "nbconvert_exporter": "python",
   "pygments_lexer": "ipython3",
   "version": "3.11.10"
  }
 },
 "nbformat": 4,
 "nbformat_minor": 2
}
